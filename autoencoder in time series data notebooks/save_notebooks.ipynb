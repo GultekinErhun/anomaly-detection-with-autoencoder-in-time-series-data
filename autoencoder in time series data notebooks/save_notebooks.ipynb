{
 "cells": [
  {
   "cell_type": "code",
   "execution_count": 1,
   "id": "ad627a17",
   "metadata": {
    "scrolled": true
   },
   "outputs": [
    {
     "name": "stdout",
     "output_type": "stream",
     "text": [
      "importing Jupyter notebook from AE_LIB.ipynb\n"
     ]
    },
    {
     "data": {
      "text/html": [
       "<style>#notebook { padding-top:0px !important; } .container { width:100% !important; } .end_space { min-height:0px !important; } </style>"
      ],
      "text/plain": [
       "<IPython.core.display.HTML object>"
      ]
     },
     "metadata": {},
     "output_type": "display_data"
    },
    {
     "name": "stderr",
     "output_type": "stream",
     "text": [
      "2023-09-18 19:07:00.357586: I tensorflow/core/platform/cpu_feature_guard.cc:182] This TensorFlow binary is optimized to use available CPU instructions in performance-critical operations.\n",
      "To enable the following instructions: AVX2 AVX512F FMA, in other operations, rebuild TensorFlow with the appropriate compiler flags.\n",
      "2023-09-18 19:07:02.363914: W tensorflow/compiler/tf2tensorrt/utils/py_utils.cc:38] TF-TRT Warning: Could not find TensorRT\n"
     ]
    }
   ],
   "source": [
    "import import_ipynb\n",
    "from AE_LIB import *\n",
    "pd.set_option('display.max_columns', 1000)\n",
    "pd.set_option('display.max_rows', 1000)\n",
    "\n",
    "import glob, os"
   ]
  },
  {
   "cell_type": "markdown",
   "id": "1da02e44",
   "metadata": {},
   "source": [
    "# Parameters"
   ]
  },
  {
   "cell_type": "code",
   "execution_count": 4,
   "id": "a16a04f0",
   "metadata": {},
   "outputs": [],
   "source": [
    "extension=\".ipynb\"\n",
    "save_uri_prefix=\"s3://test-data-eng/anomaly_detection/autoencoder/notebooks/autoencoder/\"\n",
    "save_folder_note=\"argumantation_was_made_on_functions\""
   ]
  },
  {
   "cell_type": "markdown",
   "id": "7446d2a4",
   "metadata": {},
   "source": [
    "# Save All Current Notebooks"
   ]
  },
  {
   "cell_type": "code",
   "execution_count": 5,
   "id": "7042801d",
   "metadata": {},
   "outputs": [],
   "source": [
    "curr_time = time.strftime(\"%Y-%m-%d %H:%M:%S\", time.localtime())\n",
    "\n",
    "ae_notebooks_dict={\n",
    "    \"extension\":extension,\n",
    "    \"notebook_names\":glob.glob(\"*\"+extension),\n",
    "    \"save_uri_prefix\":save_uri_prefix    \n",
    "}"
   ]
  },
  {
   "cell_type": "code",
   "execution_count": 6,
   "id": "737ee2b4",
   "metadata": {},
   "outputs": [
    {
     "name": "stdout",
     "output_type": "stream",
     "text": [
      "concat_model_outputs_based_on_asset.ipynb\n",
      "get_encoded_part.ipynb\n",
      "Produce Error Value Based On Asset-Copy1.ipynb\n",
      "Produce Error Value Based On Asset.ipynb\n",
      "LIVE.ipynb\n",
      "ae_test_and_write_results.ipynb\n",
      "save_notebooks.ipynb\n",
      "Correlation_between_xdk_gt.ipynb\n",
      "AE_LIB.ipynb\n",
      "fit_model.ipynb\n",
      "mse and entropy implementation for fct2.ipynb\n",
      "vizualization.ipynb\n"
     ]
    }
   ],
   "source": [
    "s3 = bt.resource('s3')\n",
    "save_bucket,save_uri_suffix,file_name=get_s3_Bucketname_and_Key(ae_notebooks_dict[\"save_uri_prefix\"])\n",
    "curr_time = time.strftime(\"%Y-%m-%d %H:%M:%S\", time.localtime())\n",
    "\n",
    "for i,notebook_name in enumerate(ae_notebooks_dict[\"notebook_names\"]):\n",
    "    s3.meta.client.upload_file(notebook_name, Bucket=save_bucket, Key=save_uri_suffix+curr_time+save_folder_note+\"/\"+notebook_name)\n",
    "    print(notebook_name)"
   ]
  },
  {
   "cell_type": "markdown",
   "id": "7664a4c9",
   "metadata": {},
   "source": [
    "# See Sagemaker Path"
   ]
  },
  {
   "cell_type": "code",
   "execution_count": 10,
   "id": "4a9d285f",
   "metadata": {},
   "outputs": [
    {
     "name": "stdout",
     "output_type": "stream",
     "text": [
      "/home/ec2-user/SageMaker/anomaly_detection/autoencoder/autoencoder_v4/Ae TEST AND WRITE RESULTS.ipynb\n",
      "/home/ec2-user/SageMaker/anomaly_detection/autoencoder/autoencoder_v4/ae_test_and_write_results.ipynb\n",
      "/home/ec2-user/SageMaker/anomaly_detection/autoencoder/autoencoder_v4/save_notebooks.ipynb\n",
      "/home/ec2-user/SageMaker/anomaly_detection/autoencoder/autoencoder_v4/Untitled.ipynb\n",
      "/home/ec2-user/SageMaker/anomaly_detection/autoencoder/autoencoder_v4/PCA.ipynb\n",
      "/home/ec2-user/SageMaker/anomaly_detection/autoencoder/autoencoder_v4/Correlation error with Kudret.ipynb\n",
      "/home/ec2-user/SageMaker/anomaly_detection/autoencoder/autoencoder_v4/concat outputs.ipynb\n",
      "/home/ec2-user/SageMaker/anomaly_detection/autoencoder/autoencoder_v4/AE Fıt Model.ipynb\n",
      "/home/ec2-user/SageMaker/anomaly_detection/autoencoder/autoencoder_v4/AE_LIB.ipynb\n",
      "/home/ec2-user/SageMaker/anomaly_detection/autoencoder/autoencoder_v4/fit_model.ipynb\n",
      "/home/ec2-user/SageMaker/anomaly_detection/autoencoder/autoencoder_v4/mse and entropy implementation for fct2.ipynb\n",
      "/home/ec2-user/SageMaker/anomaly_detection/autoencoder/autoencoder_v4/foo.ipynb\n",
      "/home/ec2-user/SageMaker/anomaly_detection/autoencoder/autoencoder_v4/VIZUALIZATION .ipynb\n",
      "/home/ec2-user/SageMaker/anomaly_detection/autoencoder/autoencoder_v4/fct extract cycles from gt tech step.ipynb\n"
     ]
    }
   ],
   "source": [
    "import os\n",
    "import pathlib\n",
    "\n",
    "this_sagemaker_path=os.path.abspath(\"\")\n",
    "for file_sagemaker_path in pathlib.Path(this_sagemaker_path).glob('*'+extension):\n",
    "    print(file_sagemaker_path)"
   ]
  }
 ],
 "metadata": {
  "kernelspec": {
   "display_name": "conda_python3",
   "language": "python",
   "name": "conda_python3"
  },
  "language_info": {
   "codemirror_mode": {
    "name": "ipython",
    "version": 3
   },
   "file_extension": ".py",
   "mimetype": "text/x-python",
   "name": "python",
   "nbconvert_exporter": "python",
   "pygments_lexer": "ipython3",
   "version": "3.10.10"
  }
 },
 "nbformat": 4,
 "nbformat_minor": 5
}
