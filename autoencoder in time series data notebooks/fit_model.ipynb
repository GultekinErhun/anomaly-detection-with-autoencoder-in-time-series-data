{
 "cells": [
  {
   "cell_type": "code",
   "execution_count": 7,
   "id": "e21c83de",
   "metadata": {
    "scrolled": false,
    "tags": []
   },
   "outputs": [
    {
     "name": "stdout",
     "output_type": "stream",
     "text": [
      "importing Jupyter notebook from AE_LIB.ipynb\n"
     ]
    },
    {
     "data": {
      "text/html": [
       "<style>#notebook { padding-top:0px !important; } .container { width:100% !important; } .end_space { min-height:0px !important; } </style>"
      ],
      "text/plain": [
       "<IPython.core.display.HTML object>"
      ]
     },
     "metadata": {},
     "output_type": "display_data"
    },
    {
     "name": "stderr",
     "output_type": "stream",
     "text": [
      "2023-09-15 18:28:19.364949: I tensorflow/core/platform/cpu_feature_guard.cc:182] This TensorFlow binary is optimized to use available CPU instructions in performance-critical operations.\n",
      "To enable the following instructions: AVX2 AVX512F FMA, in other operations, rebuild TensorFlow with the appropriate compiler flags.\n",
      "2023-09-15 18:28:20.107535: W tensorflow/compiler/tf2tensorrt/utils/py_utils.cc:38] TF-TRT Warning: Could not find TensorRT\n"
     ]
    }
   ],
   "source": [
    "import import_ipynb\n",
    "from AE_LIB import*\n",
    "\n",
    "pd.set_option('display.max_columns', 20)\n",
    "pd.set_option('display.max_rows', 20)"
   ]
  },
  {
   "cell_type": "markdown",
   "id": "1e3015ff",
   "metadata": {},
   "source": [
    "# 1) Choose one model"
   ]
  },
  {
   "cell_type": "markdown",
   "id": "92cdd457",
   "metadata": {},
   "source": [
    "#####   1) MULTI COLUMNS"
   ]
  },
  {
   "cell_type": "code",
   "execution_count": 2,
   "id": "039022e7",
   "metadata": {},
   "outputs": [],
   "source": [
    "# Autoencoder Model that looks at all colums, using CONVOLUTIONAL INITIAL LAYERS\n",
    "def AutoEncoder(input_shape,loss_type=\"mse\",dropout_rate=None,learning_rate=0.001):#input_shape[1]= window_size input_shape[2]=number of features\n",
    "    if input_shape[2]%2==0:\n",
    "        hidden_features_layer=input_shape[2]/2\n",
    "    else:\n",
    "        hidden_features_layer=int(input_shape[2]/2)+1\n",
    "        \n",
    "    # Encoder\n",
    "    inputs = Input(shape=(input_shape[1:]))\n",
    "    x = Conv1D(input_shape[2], 3, activation='relu', padding='same')(inputs)\n",
    "    x = MaxPooling1D(2, padding='same')(x)\n",
    "    x = Conv1D(hidden_features_layer, 3, activation='relu', padding='same')(x)\n",
    "    if type(dropout_rate) in [int,float]:\n",
    "        x=Dropout(dropout_rate)(x)\n",
    "    encoded = MaxPooling1D(2, padding='same')(x)\n",
    "    \n",
    "    \n",
    "    # Decoder\n",
    "    x = Conv1D(hidden_features_layer, 3, activation='relu', padding='same')(encoded)\n",
    "    x = UpSampling1D(2)(x)\n",
    "    x = Conv1D(input_shape[2], 3, activation='relu', padding='same')(x)\n",
    "    if type(dropout_rate) in [int,float]:\n",
    "        x=Dropout(dropout_rate)(x)\n",
    "    x = UpSampling1D(2)(x)\n",
    "    decoded = Dense(input_shape[2], activation='linear')(x)\n",
    "    \n",
    "        \n",
    "    # Autoencoder model\n",
    "    model = Model(inputs, decoded)\n",
    "    model.compile(optimizer=keras.optimizers.Adam(learning_rate=learning_rate), loss=loss_type)\n",
    "    model.summary()\n",
    "    \n",
    "    model_input_shape=input_shape\n",
    "    author=\"kia\"\n",
    "    layers_type=\"convolutional\"\n",
    "    \n",
    "    return model,model_input_shape,author,layers_type"
   ]
  },
  {
   "cell_type": "code",
   "execution_count": null,
   "id": "59aa0fa4",
   "metadata": {},
   "outputs": [],
   "source": [
    "# Autoencoder model taht uses dense, fully connected layers on multiple columns\n",
    "def AutoEncoder(input_shape,loss_type=\"mse\",dropout_rate=None,learning_rate=0.001):#input_shape[1]= window_size input_shape[2]=number of features\n",
    "    hidden_layer1=int((input_shape[2])/1.25)\n",
    "    hidden_layer2=int((input_shape[2])/(1.25**2))\n",
    "    model = tf.keras.models.Sequential()\n",
    "    model.add(tf.keras.Input(shape=(input_shape[1],input_shape[2])))\n",
    "    model.add(tf.keras.layers.Dense(input_shape[2],activation=\"relu\"))\n",
    "    if type(dropout_rate) in [int,float]:\n",
    "        model.add(Dropout(dropout_rate))\n",
    "    model.add(tf.keras.layers.Dense(hidden_layer1,activation=\"relu\"))\n",
    "    model.add(tf.keras.layers.Dense(hidden_layer2,activation=\"relu\"))\n",
    "    model.add(tf.keras.layers.Dense(hidden_layer1,activation=\"relu\"))\n",
    "    if type(dropout_rate) in [int,float]:\n",
    "        model.add(Dropout(dropout_rate))           \n",
    "    model.add(TimeDistributed(Dense(input_shape[2],activation=\"linear\")))\n",
    "    model.compile(optimizer=keras.optimizers.Adam(learning_rate=learning_rate), loss=loss_type)\n",
    "    model.summary()\n",
    "    \n",
    "    \n",
    "    model_input_shape=input_shape\n",
    "    author=\"erhun\"\n",
    "    layers_type=\"dense\"\n",
    "    \n",
    "    return model,model_input_shape,author,layers_type"
   ]
  },
  {
   "cell_type": "markdown",
   "id": "d9b22135",
   "metadata": {},
   "source": [
    "##### 2) SINGLE COLUMNS"
   ]
  },
  {
   "cell_type": "code",
   "execution_count": null,
   "id": "4c8a3656",
   "metadata": {},
   "outputs": [],
   "source": [
    "#Autoencoder model that gets a single column of the data and outputs a single column. DENSE LAYERS\n",
    "def AutoEncoder(input_shape,loss_type=\"mse\",dropout_rate=None,learning_rate=0.001):#input_shape[1]= window_size input_shape[2]=number of features\n",
    "\n",
    "    model = tf.keras.models.Sequential()\n",
    "    model.add(tf.keras.Input(shape=(input_shape[1])))\n",
    "    model.add(tf.keras.layers.Dense(input_shape[1],activation=\"relu\"))\n",
    "    model.add(tf.keras.layers.Dense(64,activation=\"relu\"))\n",
    "    model.add(tf.keras.layers.Dense(32,activation=\"relu\"))\n",
    "    if type(dropout_rate) in [int,float]:\n",
    "        model.add(Dropout(dropout_rate))\n",
    "    model.add(tf.keras.layers.Dense(16,activation=\"relu\"))\n",
    "    model.add(tf.keras.layers.Dense(8,activation=\"relu\"))\n",
    "    model.add(tf.keras.layers.Dense(16,activation=\"relu\"))\n",
    "    if type(dropout_rate) in [int,float]:\n",
    "        model.add(Dropout(dropout_rate))\n",
    "    model.add(tf.keras.layers.Dense(32,activation=\"relu\"))\n",
    "    model.add(tf.keras.layers.Dense(64,activation=\"relu\"))\n",
    "    model.add(Dense(input_shape[1],activation=\"linear\"))\n",
    "    \n",
    "    model.compile(optimizer=keras.optimizers.Adam(learning_rate=learning_rate), loss=loss_type)\n",
    "    model.summary()\n",
    "    \n",
    "    \n",
    "    model_input_shape=input_shape[:-1]\n",
    "    author=\"erhun\"\n",
    "    layers_type=\"dense\"\n",
    "    \n",
    "    return model,model_input_shape,author,layers_type"
   ]
  },
  {
   "cell_type": "code",
   "execution_count": null,
   "id": "ae95bb43",
   "metadata": {},
   "outputs": [],
   "source": [
    "#Autoencoder model that gets a single column of the data and outputs a single column. CONVLTURIONAL LAYERS\n",
    "\n",
    "def AutoEncoder(input_shape,loss_type=\"mse\",dropout_rate=None,learning_rate=0.001):#input_shape[1]= window_size input_shape[2]=number of features\n",
    "\n",
    "    model = tf.keras.models.Sequential()\n",
    "    model.add(layers.Input(shape=(input_shape[1], 1)))\n",
    "    model.add(layers.Conv1D(filters=32, kernel_size=5, padding=\"same\", strides=2, activation=\"relu\"))\n",
    "    if type(dropout_rate) in [int,float]:\n",
    "        model.add(Dropout(dropout_rate))\n",
    "    model.add(layers.Conv1D(filters=16, kernel_size=3, padding=\"same\", strides=2, activation=\"relu\"))\n",
    "    model.add(UpSampling1D(2))\n",
    "    if type(dropout_rate) in [int,float]:\n",
    "        model.add(Dropout(dropout_rate))\n",
    "    model.add(UpSampling1D(2))\n",
    "    model.add(layers.Conv1D(filters=32, kernel_size=3, padding=\"same\", strides=1, activation=\"relu\"))\n",
    "    model.add(layers.Conv1D(filters=1, kernel_size=5, padding=\"same\", strides=1, activation=\"linear\"))\n",
    "    model.compile(optimizer=keras.optimizers.Adam(learning_rate=learning_rate), loss=loss_type)\n",
    "    model.summary()\n",
    "    \n",
    "    model_input_shape=input_shape\n",
    "    author=\"erhun\"\n",
    "    layers_type=\"convolutional\"\n",
    "    \n",
    "    return model,model_input_shape,author,layers_type"
   ]
  },
  {
   "cell_type": "markdown",
   "id": "70a1980d",
   "metadata": {},
   "source": [
    "# 2) Choose Train Paths"
   ]
  },
  {
   "cell_type": "markdown",
   "id": "694bdc13",
   "metadata": {},
   "source": [
    "### 2.1) ALL PATHS, TRAIN COLUMNS AND TIME COLUMN"
   ]
  },
  {
   "cell_type": "raw",
   "id": "27ae93f0",
   "metadata": {},
   "source": [
    "INFO:\n",
    "\n",
    "each list in all_train_cols_list indicates one list of columns to train at once "
   ]
  },
  {
   "cell_type": "markdown",
   "id": "cd233603",
   "metadata": {},
   "source": [
    "##### 2.1.1) ALL XDK PATHS  "
   ]
  },
  {
   "cell_type": "code",
   "execution_count": null,
   "id": "bb4003f3",
   "metadata": {
    "tags": []
   },
   "outputs": [],
   "source": [
    "# LIST OF ALL PATHS FOR NUROL LOBSTER DATA\n",
    "# COPY PASTE FROM HERE AS NEEDED\n",
    "\n",
    "read_paths=[\"s3://tm-partitioned/preprocessed/nurol/tr/golbasi/fct1/pump-1/{}/{}/{}/\",\n",
    "            \"s3://tm-partitioned/preprocessed/nurol/tr/golbasi/fct1/pump-2/{}/{}/{}/\",\n",
    "            \"s3://tm-partitioned/preprocessed/nurol/tr/golbasi/fct1/redressor-2{}/{}/{}/\",\n",
    "        \n",
    "            \"s3://tm-partitioned/preprocessed/nurol/tr/golbasi/fct2/pump-1/{}/{}/{}/\",\n",
    "            \"s3://tm-partitioned/preprocessed/nurol/tr/golbasi/fct2/pump-2/{}/{}/{}/\",\n",
    "            \"s3://tm-partitioned/preprocessed/nurol/tr/golbasi/fct2/redressor-1-1/{}/{}/{}/\",\n",
    "            \"s3://tm-partitioned/preprocessed/nurol/tr/golbasi/fct2/redressor-1-2/{}/{}/{}/\",\n",
    "            \"s3://tm-partitioned/preprocessed/nurol/tr/golbasi/fct2/redressor-1-3/{}/{}/{}/\",\n",
    "        \n",
    "            \"s3://tm-partitioned/preprocessed/nurol/tr/golbasi/fct3/pump-1{}/{}/{}/\",\n",
    "            \"s3://tm-partitioned/preprocessed/nurol/tr/golbasi/fct3/pump-2/{}/{}/{}/\",\n",
    "            \"s3://tm-partitioned/preprocessed/nurol/tr/golbasi/fct3/redressor-1/{}/{}/{}/\",\n",
    "            \"s3://tm-partitioned/preprocessed/nurol/tr/golbasi/fct3/redressor-2/{}/{}/{}/\",\n",
    "            \"s3://tm-partitioned/preprocessed/nurol/tr/golbasi/fct3/redressor-3/{}/{}/{}/\",\n",
    "       \n",
    "           #\"s3://tm-partitioned/preprocessed/nurol/tr/golbasi/komage/motor/{}/{}/{}/\",\n",
    "           #\"s3://tm-partitioned/preprocessed/nurol/tr/golbasi/komage/top/{}/{}/{}/\",\n",
    "            \n",
    "            \n",
    "            #\"s3://data-science-source/Anomaly_detection/Autoencoder/gt_files/nurol/tr/golbasi/fct2/all/gt/id/{}/{}/{}/\"\n",
    "            ]\n",
    "\n",
    "\n",
    "# LIST OF LOBSTER PATSH FOR KUTAHYA\n",
    "read_paths=[\n",
    "\"s3://tm-partitioned/preprocessed/kutahya-ser/tr/15temmuz/line-2/sirlama/{}/{}/{}/\",\n",
    "\"s3://tm-partitioned/preprocessed/kutahya-ser/tr/15temmuz/line-2/dijital/{}/{}/{}/\",\n",
    "\"s3://tm-partitioned/preprocessed/kutahya-ser/tr/15temmuz/line-3/sirlama/{}/{}/{}/\",\n",
    "    ]\n",
    "\n",
    "# LIST OF SOME OTHER LOBSTER PATHS\n",
    "read_paths=[\n",
    "    \"s3://tm-partitioned/preprocessed/kutahya-ser/tr/15temmuz/line-6/sirlama/{}/{}/{}/\",\n",
    "    \"s3://tm-partitioned/preprocessed/kutahya-ser/tr/15temmuz/line-6/pres/{}/{}/{}/\",\n",
    "    \"s3://tm-partitioned/preprocessed/kutahya-ser/tr/15temmuz/line-3/dijital/{}/{}/{}/\",\n",
    "    \"s3://tm-partitioned/preprocessed/kutahya-ser/tr/15temmuz/line-3/pres/{}/{}/{}/\",   \n",
    "    \"s3://tm-partitioned/preprocessed/kutahya-ser/tr/15temmuz/line-2/pres/{}/{}/{}/\",            \n",
    "    ]\n",
    "\n",
    "\n",
    "# LIST OF CELIK HALAT PATHS\n",
    "read_paths=[\n",
    "            \"s3://tm-partitioned/preprocessed/celik-halat/tr/kartepe/m432/sanziman-ana/{}/{}/{}/\",\n",
    "            \"s3://tm-partitioned/preprocessed/celik-halat/tr/kartepe/m432/sanziman-tambur/{}/{}/{}/\",\n",
    "            \"s3://tm-partitioned/preprocessed/celik-halat/tr/kartepe/m424/verici/{}/{}/{}/\"\n",
    "            ]\n",
    "\n",
    "\n",
    "time_column=\"tm\"\n",
    "all_train_cols_list=[\n",
    "    ['ax', 'ay', 'az','a_rms_eff','mx', 'my', 'mz','mr', 'm_rms','t', 'p', 'n','a_fft_0_f','n_fft_0_f',\"a_fft_1_f_clean\",\"n_fft_1_f_clean\"]\n",
    "]\n",
    "\n"
   ]
  },
  {
   "cell_type": "markdown",
   "id": "bdbb5eab",
   "metadata": {},
   "source": [
    "##### 2.1.2) ALL GT PATHS  "
   ]
  },
  {
   "cell_type": "code",
   "execution_count": null,
   "id": "fdaa632f",
   "metadata": {},
   "outputs": [],
   "source": [
    "# GROUND TRUTH PATH FOR NUROL    (EVERY PROJECT NEEDS A CELL LIKE THIS!)\n",
    "read_paths=[\"s3://ml-labels/gt-preprocessed/nurol/tr/golbasi/fct2/all/{}/{}/{}/\"]\n",
    "time_column='Cur. Time Charge'\n",
    "\n",
    "#ADD THE THERMOCOUPLE\n",
    "all_train_cols=list(pd.read_parquet(\"s3://test-data-eng/anomaly_detection/autoencoder/sources/our_own_doing/train_cols/FCT2_gt_train_columns.parquet\").values.ravel())+['ISO TC zones abs diff [°C]']\n",
    "#DESIRED GROUND TRUTH COLUMNS CONTAINED ABOVE\n",
    "\n",
    "\n",
    "#REMOVE UNWANTED COLUMNS\n",
    "all_train_cols.remove('Wika abs. box [mbar]')\n",
    "all_train_cols.remove('Wika abs. vessel [mbar]')  ################# old dates dont have this two column\n",
    "\n",
    "all_train_cols.remove('AV tube heater [°C]')\n",
    "all_train_cols.remove('SV tube heater [°C]')\n",
    "all_train_cols.remove('TPC temperature [°C]')\n",
    "all_train_cols.remove('Y relative pressure [%]')\n",
    "all_train_cols.remove('SV relative pressure [mbar(g)]')\n",
    "all_train_cols.remove('TPC secondary air 1 [%]')\n",
    "all_train_cols.remove('TPC secondary air 2 [%]',)\n",
    "all_train_cols.remove( 'TPC secondary air 3 [%]')\n",
    "\n",
    "all_train_cols_list=[all_train_cols]\n",
    "\n"
   ]
  },
  {
   "cell_type": "code",
   "execution_count": null,
   "id": "6ec4b313",
   "metadata": {},
   "outputs": [],
   "source": [
    "# explore what we are getting\n",
    "all_train_cols_list"
   ]
  },
  {
   "cell_type": "markdown",
   "id": "087d0d6d",
   "metadata": {},
   "source": [
    "##### 2.1.3) ALL GT STATİSTİCAL INPUT PATHS  "
   ]
  },
  {
   "cell_type": "code",
   "execution_count": null,
   "id": "58518e6e",
   "metadata": {},
   "outputs": [],
   "source": [
    "#STATISTICALIZED DATA OF NUROL   (KULLANILMADI PEK) ( TALHADAN MAKBUL OLANLARI GELECEK)\n",
    "read_paths=[\"s3://test-data-eng/anomaly_detection/autoencoder/inputs/statistical_funcs_byMinute/nurol/tr/golbasi/fct2/all/gt/all/{}/{}/{}/\"]\n",
    "all_train_cols=list(pd.read_parquet(\"s3://test-data-eng/anomaly_detection/autoencoder/sources/our_own_doing/train_cols/FCT2_gt_train_columns.parquet\").values.ravel())+['ISO TC zones abs diff [°C]']\n",
    "all_train_cols.remove('Wika abs. box [mbar]')\n",
    "all_train_cols.remove('Wika abs. vessel [mbar]')  ################# old dates dont have this two column\n",
    "all_train_cols.remove('TPC secondary air 1 [%]')\n",
    "all_train_cols.remove('TPC secondary air 2 [%]',)\n",
    "all_train_cols.remove( 'TPC secondary air 3 [%]')\n",
    "time_column='Cur. Time Charge_minute'\n",
    "\n",
    "\n",
    "#TRANSFORM TIME SERIES DATA TO STATISCIAL DATA\n",
    "statiscital_func_list=[\"sum\",\"mean\",\"median\",\"std\",\"min\",\"max\",\"maxMinDifference\"]\n",
    "statistical_all_train_cols=[]\n",
    "for i in range(len(all_train_cols)):\n",
    "    for j in range(len(statiscital_func_list)):\n",
    "        statistical_all_train_cols.append(\"_\".join([all_train_cols[i], statiscital_func_list[j]]))\n",
    "all_train_cols=statistical_all_train_cols\n",
    "\n",
    "all_train_cols_list=[all_train_cols]\n"
   ]
  },
  {
   "cell_type": "markdown",
   "id": "9ced0dc9",
   "metadata": {},
   "source": [
    "# 2.2) CHOOSE ONE time_column, read_paths and all_train_cols_list"
   ]
  },
  {
   "cell_type": "code",
   "execution_count": null,
   "id": "ba11212a",
   "metadata": {},
   "outputs": [],
   "source": [
    "#NUROL ALL COLUMNS LIST (USED FOR COPY PASTE)\n",
    "# 4 lists of columns, will eventually train 4 different models\n",
    "time_column='Cur. Time Charge'\n",
    "read_paths=[\"s3://ml-labels/gt-preprocessed/nurol/tr/golbasi/fct2/all/{}/{}/{}/\"]\n",
    "\n",
    "\n",
    "all_train_cols_list=[\n",
    "[\n",
    " 'Power zone 1 - phase 1 [kW]',\n",
    " 'Power zone 1 - phase 2 [kW]',\n",
    " 'Power zone 1 - phase 3 [kW]',\n",
    " 'Power zone 2 - phase 1 [kW]',\n",
    " 'Power zone 2 - phase 2 [kW]',\n",
    " 'Power zone 2 - phase 3 [kW]'],\n",
    "['Voltage zone 1 - phase 1 [V]',\n",
    " 'Voltage zone 1 - phase 2 [V]',\n",
    " 'Voltage zone 1 - phase 3 [V]',\n",
    " 'Voltage zone 2 - phase 1 [V]',\n",
    " 'Voltage zone 2 - phase 2 [V]',\n",
    " 'Voltage zone 2 - phase 3 [V]'],\n",
    "['Current zone 1 - phase 1 [kA]',\n",
    " 'Current zone 1 - phase 2 [kA]',\n",
    " 'Current zone 1 - phase 3 [kA]',\n",
    " 'Current zone 2 - phase 1 [kA]',\n",
    " 'Current zone 2 - phase 2 [kA]',\n",
    " 'Current zone 2 - phase 3 [kA]'],\n",
    " ['Resistance zone 1 - phase 1 [mOhm]',\n",
    " 'Resistance zone 1 - phase 2 [mOhm]',\n",
    " 'Resistance zone 1 - phase 3 [mOhm]',\n",
    " 'Resistance zone 2 - phase 1 [mOhm]',\n",
    " 'Resistance zone 2 - phase 2 [mOhm]',\n",
    " 'Resistance zone 2 - phase 3 [mOhm]']]  \n",
    "\n",
    "\n",
    "all_train_cols_list = [\n",
    "\n",
    "  ['Ctrl. pyro zone 1 [°C]',\n",
    "  'Ctrl. pyro zone 2 [°C]'],\n",
    "    \n",
    "  ['Sliding TC [°C]',\n",
    "  'ISO TC 1 [°C]',\n",
    "  'ISO TC 2 [°C]',\n",
    "   'ISO TC zones abs diff [°C]'],\n",
    "    \n",
    "    \n",
    "  [\n",
    "  'Y Heizer Zone 2 [%]',\n",
    "   'Y Heizer Zone 1 [%]'],\n",
    "  \n",
    "['SV temperature zone 2 [°C]',\n",
    " 'SV temperature zone 1 [°C]',\n",
    "  ],\n",
    "    \n",
    " [   \n",
    "  'Rapid cooling inlet temp. [°C]',\n",
    "  'Rapid cooling outlet temp. [°C]',\n",
    "  'Rapid cooling post CP1 temp. [°C]',\n",
    "  'Speed rapid cooling pump [rpm]',\n",
    "  'CW inlet temperature [°C]',\n",
    "  'CW inlet conductance [µS/cm]',\n",
    "  'Rapid cooling pressure inlet [mbar(g)]',\n",
    "  'Rapid cooling pressure outlet [mbar(g)]',\n",
    "  'Rapid cooling pressure deviation [mbar(g)]',\n",
    "  'Current pump rapid cooling [A]',\n",
    "  'Power pump rapid cooling [kW]',\n",
    "  'Engine torque pump rapid cooling [nm]',\n",
    " ],\n",
    "    \n",
    "  [  \n",
    "  'Relative pressure 1 [mbar(g)]',\n",
    "  'Relative pressure 2 [mbar(g)]',\n",
    "  'Absolute pressure 1 vessel [mbar(a)]',\n",
    "  'Absolute pressure 2 box [mbar(a)]',\n",
    "  'SV absolute pressure [mbar(a)]',\n",
    "  'Y absolute pressure [%]',\n",
    "  'Speed vacuum pump WAU [rpm]'],\n",
    "    \n",
    "    \n",
    "  ['Power zone 1 [kW]',\n",
    "  'Power zone 2 [kW]',\n",
    "  'Power zone 1+2 [kW]',\n",
    "  'Power zone 1 - phase 1 [kW]',\n",
    "  'Power zone 1 - phase 2 [kW]',\n",
    "  'Power zone 1 - phase 3 [kW]',\n",
    "  'Power zone 2 - phase 1 [kW]',\n",
    "  'Power zone 2 - phase 2 [kW]',\n",
    "  'Power zone 2 - phase 3 [kW]',\n",
    "  'Voltage zone 1 - phase 1 [V]',\n",
    "  'Voltage zone 1 - phase 2 [V]',\n",
    "  'Voltage zone 1 - phase 3 [V]',\n",
    "  'Voltage zone 2 - phase 1 [V]',\n",
    "  'Voltage zone 2 - phase 2 [V]',\n",
    "  'Voltage zone 2 - phase 3 [V]',\n",
    "  'Current zone 1 - phase 1 [kA]',\n",
    "  'Current zone 1 - phase 2 [kA]',\n",
    "  'Current zone 1 - phase 3 [kA]',\n",
    "  'Current zone 2 - phase 1 [kA]',\n",
    "  'Current zone 2 - phase 2 [kA]',\n",
    "  'Current zone 2 - phase 3 [kA]',\n",
    "  'Resistance zone 1 - phase 1 [mOhm]',\n",
    "  'Resistance zone 1 - phase 2 [mOhm]',\n",
    "  'Resistance zone 1 - phase 3 [mOhm]',\n",
    "  'Resistance zone 2 - phase 1 [mOhm]',\n",
    "  'Resistance zone 2 - phase 2 [mOhm]',\n",
    "  'Resistance zone 2 - phase 3 [mOhm]'],\n",
    "    \n",
    "    [\n",
    "'Power zone 1 - phase 1 [kW]',\n",
    " 'Power zone 1 - phase 2 [kW]',\n",
    " 'Power zone 1 - phase 3 [kW]',\n",
    " 'Power zone 2 - phase 1 [kW]',\n",
    " 'Power zone 2 - phase 2 [kW]',\n",
    " 'Power zone 2 - phase 3 [kW]'],\n",
    "['Voltage zone 1 - phase 1 [V]',\n",
    " 'Voltage zone 1 - phase 2 [V]',\n",
    " 'Voltage zone 1 - phase 3 [V]',\n",
    " 'Voltage zone 2 - phase 1 [V]',\n",
    " 'Voltage zone 2 - phase 2 [V]',\n",
    " 'Voltage zone 2 - phase 3 [V]'],\n",
    "['Current zone 1 - phase 1 [kA]',\n",
    " 'Current zone 1 - phase 2 [kA]',\n",
    " 'Current zone 1 - phase 3 [kA]',\n",
    " 'Current zone 2 - phase 1 [kA]',\n",
    " 'Current zone 2 - phase 2 [kA]',\n",
    " 'Current zone 2 - phase 3 [kA]'],\n",
    " ['Resistance zone 1 - phase 1 [mOhm]',\n",
    " 'Resistance zone 1 - phase 2 [mOhm]',\n",
    " 'Resistance zone 1 - phase 3 [mOhm]',\n",
    " 'Resistance zone 2 - phase 1 [mOhm]',\n",
    " 'Resistance zone 2 - phase 2 [mOhm]',\n",
    " 'Resistance zone 2 - phase 3 [mOhm]']\n",
    "     \n",
    "]\n"
   ]
  },
  {
   "cell_type": "code",
   "execution_count": 4,
   "id": "4ab78285",
   "metadata": {},
   "outputs": [],
   "source": [
    "# LIST OF XDK PATHS FOR TRAINING NUROL  (THIS CELL COPIES THE VALUES TO THE VARIABLES)\n",
    "read_paths=[\"s3://tm-partitioned/preprocessed/nurol/tr/golbasi/fct2/redressor-1-1/{}/{}/{}/\",\n",
    "            \"s3://tm-partitioned/preprocessed/nurol/tr/golbasi/fct2/redressor-1-2/{}/{}/{}/\",\n",
    "            \"s3://tm-partitioned/preprocessed/nurol/tr/golbasi/fct2/redressor-1-3/{}/{}/{}/\",\n",
    "            \"s3://tm-partitioned/preprocessed/nurol/tr/golbasi/fct2/pump-1/{}/{}/{}/\",\n",
    "            \"s3://tm-partitioned/preprocessed/nurol/tr/golbasi/fct2/pump-2/{}/{}/{}/\",\n",
    "\n",
    "            ]\n",
    "\n",
    "time_column=\"tm\"\n",
    "all_train_cols_list=[\n",
    "    ['ax', 'ay', 'az','a_rms_eff'],\n",
    "    ['mx', 'my', 'mz','m_rms'],\n",
    "    ['gx','gy','gz','g_rms']\n",
    "                    ]"
   ]
  },
  {
   "cell_type": "markdown",
   "id": "cef70459",
   "metadata": {},
   "source": [
    "# 3) Choose Process Train Intervals"
   ]
  },
  {
   "cell_type": "markdown",
   "id": "927f2b41",
   "metadata": {},
   "source": [
    "### 3.1) option 1 - USE START AND STOP TIMES FROM CUSTOMER CSV'S. USING TIME AND QUALITY EXTRACTOR NOTEBOOK"
   ]
  },
  {
   "cell_type": "code",
   "execution_count": 9,
   "id": "3a24033c",
   "metadata": {
    "tags": []
   },
   "outputs": [
    {
     "data": {
      "text/html": [
       "<div>\n",
       "<style scoped>\n",
       "    .dataframe tbody tr th:only-of-type {\n",
       "        vertical-align: middle;\n",
       "    }\n",
       "\n",
       "    .dataframe tbody tr th {\n",
       "        vertical-align: top;\n",
       "    }\n",
       "\n",
       "    .dataframe thead th {\n",
       "        text-align: right;\n",
       "    }\n",
       "</style>\n",
       "<table border=\"1\" class=\"dataframe\">\n",
       "  <thead>\n",
       "    <tr style=\"text-align: right;\">\n",
       "      <th></th>\n",
       "      <th>start</th>\n",
       "      <th>end</th>\n",
       "      <th>project</th>\n",
       "      <th>cycle_num</th>\n",
       "      <th>error_rate_total</th>\n",
       "      <th>error_rate_quality_gate_1</th>\n",
       "      <th>error_rate_quality_gate_2</th>\n",
       "      <th>year</th>\n",
       "    </tr>\n",
       "  </thead>\n",
       "  <tbody>\n",
       "    <tr>\n",
       "      <th>250</th>\n",
       "      <td>2022-08-02 16:00:00</td>\n",
       "      <td>2022-08-05 00:00:00</td>\n",
       "      <td>agena</td>\n",
       "      <td>78</td>\n",
       "      <td>0.156566</td>\n",
       "      <td>0.083333</td>\n",
       "      <td>0.079890</td>\n",
       "      <td>2022.0</td>\n",
       "    </tr>\n",
       "    <tr>\n",
       "      <th>251</th>\n",
       "      <td>2022-08-05 11:30:00</td>\n",
       "      <td>2022-08-07 18:20:00</td>\n",
       "      <td>agena</td>\n",
       "      <td>79</td>\n",
       "      <td>0.055556</td>\n",
       "      <td>0.022727</td>\n",
       "      <td>0.033592</td>\n",
       "      <td>2022.0</td>\n",
       "    </tr>\n",
       "    <tr>\n",
       "      <th>252</th>\n",
       "      <td>2022-08-08 10:50:00</td>\n",
       "      <td>2022-08-10 17:30:00</td>\n",
       "      <td>agena</td>\n",
       "      <td>80</td>\n",
       "      <td>0.230769</td>\n",
       "      <td>0.107143</td>\n",
       "      <td>0.138462</td>\n",
       "      <td>2022.0</td>\n",
       "    </tr>\n",
       "    <tr>\n",
       "      <th>253</th>\n",
       "      <td>2022-08-11 13:17:00</td>\n",
       "      <td>2022-08-13 20:00:00</td>\n",
       "      <td>agena</td>\n",
       "      <td>81</td>\n",
       "      <td>0.179293</td>\n",
       "      <td>0.116162</td>\n",
       "      <td>0.071429</td>\n",
       "      <td>2022.0</td>\n",
       "    </tr>\n",
       "    <tr>\n",
       "      <th>254</th>\n",
       "      <td>2022-08-13 21:10:00</td>\n",
       "      <td>2022-08-16 02:30:00</td>\n",
       "      <td>agena</td>\n",
       "      <td>82</td>\n",
       "      <td>0.161616</td>\n",
       "      <td>0.073232</td>\n",
       "      <td>0.095368</td>\n",
       "      <td>2022.0</td>\n",
       "    </tr>\n",
       "    <tr>\n",
       "      <th>...</th>\n",
       "      <td>...</td>\n",
       "      <td>...</td>\n",
       "      <td>...</td>\n",
       "      <td>...</td>\n",
       "      <td>...</td>\n",
       "      <td>...</td>\n",
       "      <td>...</td>\n",
       "      <td>...</td>\n",
       "    </tr>\n",
       "    <tr>\n",
       "      <th>292</th>\n",
       "      <td>2023-02-11 00:49:20</td>\n",
       "      <td>2023-02-13 03:19:34</td>\n",
       "      <td>None</td>\n",
       "      <td>7</td>\n",
       "      <td>NaN</td>\n",
       "      <td>NaN</td>\n",
       "      <td>NaN</td>\n",
       "      <td>2023.0</td>\n",
       "    </tr>\n",
       "    <tr>\n",
       "      <th>293</th>\n",
       "      <td>2023-02-14 17:47:41</td>\n",
       "      <td>2023-02-16 20:36:35</td>\n",
       "      <td>None</td>\n",
       "      <td>8</td>\n",
       "      <td>NaN</td>\n",
       "      <td>NaN</td>\n",
       "      <td>NaN</td>\n",
       "      <td>2023.0</td>\n",
       "    </tr>\n",
       "    <tr>\n",
       "      <th>294</th>\n",
       "      <td>2023-02-17 17:47:13</td>\n",
       "      <td>2023-02-19 21:01:46</td>\n",
       "      <td>None</td>\n",
       "      <td>9</td>\n",
       "      <td>NaN</td>\n",
       "      <td>NaN</td>\n",
       "      <td>NaN</td>\n",
       "      <td>2023.0</td>\n",
       "    </tr>\n",
       "    <tr>\n",
       "      <th>295</th>\n",
       "      <td>2023-02-21 02:23:06</td>\n",
       "      <td>2023-02-23 01:32:04</td>\n",
       "      <td>None</td>\n",
       "      <td>10</td>\n",
       "      <td>NaN</td>\n",
       "      <td>NaN</td>\n",
       "      <td>NaN</td>\n",
       "      <td>2023.0</td>\n",
       "    </tr>\n",
       "    <tr>\n",
       "      <th>296</th>\n",
       "      <td>2023-03-17 19:20:47</td>\n",
       "      <td>2023-03-19 17:43:27</td>\n",
       "      <td>None</td>\n",
       "      <td>11</td>\n",
       "      <td>NaN</td>\n",
       "      <td>NaN</td>\n",
       "      <td>NaN</td>\n",
       "      <td>2023.0</td>\n",
       "    </tr>\n",
       "  </tbody>\n",
       "</table>\n",
       "<p>47 rows × 8 columns</p>\n",
       "</div>"
      ],
      "text/plain": [
       "                  start                 end project  cycle_num   \n",
       "250 2022-08-02 16:00:00 2022-08-05 00:00:00   agena         78  \\\n",
       "251 2022-08-05 11:30:00 2022-08-07 18:20:00   agena         79   \n",
       "252 2022-08-08 10:50:00 2022-08-10 17:30:00   agena         80   \n",
       "253 2022-08-11 13:17:00 2022-08-13 20:00:00   agena         81   \n",
       "254 2022-08-13 21:10:00 2022-08-16 02:30:00   agena         82   \n",
       "..                  ...                 ...     ...        ...   \n",
       "292 2023-02-11 00:49:20 2023-02-13 03:19:34    None          7   \n",
       "293 2023-02-14 17:47:41 2023-02-16 20:36:35    None          8   \n",
       "294 2023-02-17 17:47:13 2023-02-19 21:01:46    None          9   \n",
       "295 2023-02-21 02:23:06 2023-02-23 01:32:04    None         10   \n",
       "296 2023-03-17 19:20:47 2023-03-19 17:43:27    None         11   \n",
       "\n",
       "     error_rate_total  error_rate_quality_gate_1  error_rate_quality_gate_2   \n",
       "250          0.156566                   0.083333                   0.079890  \\\n",
       "251          0.055556                   0.022727                   0.033592   \n",
       "252          0.230769                   0.107143                   0.138462   \n",
       "253          0.179293                   0.116162                   0.071429   \n",
       "254          0.161616                   0.073232                   0.095368   \n",
       "..                ...                        ...                        ...   \n",
       "292               NaN                        NaN                        NaN   \n",
       "293               NaN                        NaN                        NaN   \n",
       "294               NaN                        NaN                        NaN   \n",
       "295               NaN                        NaN                        NaN   \n",
       "296               NaN                        NaN                        NaN   \n",
       "\n",
       "       year  \n",
       "250  2022.0  \n",
       "251  2022.0  \n",
       "252  2022.0  \n",
       "253  2022.0  \n",
       "254  2022.0  \n",
       "..      ...  \n",
       "292  2023.0  \n",
       "293  2023.0  \n",
       "294  2023.0  \n",
       "295  2023.0  \n",
       "296  2023.0  \n",
       "\n",
       "[47 rows x 8 columns]"
      ]
     },
     "execution_count": 9,
     "metadata": {},
     "output_type": "execute_result"
    }
   ],
   "source": [
    "# GET THE TRAINING DATA\n",
    "train_data_info=pd.read_parquet(\"s3://test-data-eng/anomaly_detection/autoencoder/sources/preprocessed/nurol/tr/golbasi/fct2/train_data_info/train_data_info_nurol_fct2_by_time_and_quality_extractor.parquet\") \n",
    "# THE FILE ABOVE IS GENERATED AUTOMATICALLY!! IN THE NOTEBOOK:\n",
    "# Fct Fırın Kalite_Kabul_Proje.ipynb ->  Fct_cycle_time_and_quality_extractor.ipynb\n",
    "# RUN THE NOTEBOOK BELOW TO UPDATE THE DATA, IF IT WORKS THEN THE FOLLOWING CODE MAY NOT BE NEEDED\n",
    "\n",
    "\n",
    "# /home/ec2-user/SageMaker/anomaly_detection/autoencoder/other_function_notebooks/fct_cycle_time_and_quality_extractor.ipynb\n",
    "\n",
    "\n",
    "\n",
    "# MANUALLY ADD START STOP DATES FOR DATA THAT HAS NOT BEEN PROVIDED BY THE MACHINE (FAMOUS CSV FILES)\n",
    "train_data_info.loc[295]=[pd.to_datetime('2023-02-21 02:23:06'),pd.to_datetime('2023-02-23 01:32:04'),None,10.0,None,None,None,2023]\n",
    "train_data_info.loc[296]=[pd.to_datetime('2023-03-17 19:20:47'),pd.to_datetime('2023-03-19 17:43:27'),None,11.0,None,None,None,2023]\n",
    "train_data_info.loc[297]=[pd.to_datetime('2023-03-23 14:43:00'),pd.to_datetime('2023-03-25 14:31:52'),None,12.0,None,None,None,2023]\n",
    "train_data_info.loc[298,[\"start\",\"end\",\"cycle_num\",\"year\"]]=[pd.to_datetime(\"14.03.2023  22:36:59\",dayfirst=True),pd.to_datetime(\"16.03.2023  23:22:19\",dayfirst=True),13.0,2023]\n",
    "train_data_info.loc[299,[\"start\",\"end\",\"cycle_num\",\"year\"]]=[pd.to_datetime(\"2023-05-06 01:21:54\"),pd.to_datetime(\"2023-05-08 08:59:47\"),14.0,2023]\n",
    "train_data_info.loc[300,[\"start\",\"end\",\"cycle_num\",\"year\"]]=[pd.to_datetime(\"2023-05-10 04:54:32\"),pd.to_datetime(\"2023-05-12 15:32:16\"),15.0,2023]\n",
    "train_data_info.loc[301,[\"start\",\"end\",\"cycle_num\",\"year\"]]=[pd.to_datetime(\"2023-05-17 16:31:05\"),pd.to_datetime(\"2023-05-19 11:23:51\"),16.0,2023]\n",
    "train_data_info.loc[302,[\"start\",\"end\",\"cycle_num\",\"year\"]]=[pd.to_datetime(\"2023-06-03 01:10:57\"),pd.to_datetime(\"2023-06-05 01:02:45\"),17.0,2023]\n",
    "train_data_info.loc[303,[\"start\",\"end\",\"cycle_num\",\"year\"]]=[pd.to_datetime(\"2023-06-16 15:23:42\"),pd.to_datetime(\"2023-06-18 20:56:39\"),18.0,2023]\n",
    "train_data_info.loc[304,[\"start\",\"end\",\"cycle_num\",\"year\"]]=[pd.to_datetime(\"2023-06-19 16:41:40\"),pd.to_datetime(\"2023-06-21 18:43:58\"),19.0,2023]\n",
    "train_data_info.loc[305,[\"start\",\"end\",\"cycle_num\",\"year\"]]=[pd.to_datetime(\"2023-07-02 16:58:52\"),pd.to_datetime(\"2023-07-04 18:06:57\"),20.0,2023]\n",
    "#BURALAR TAM EZIYET!\n",
    "\n",
    "\n",
    "# CONVERT THE CYCLE NUMBER TO INT (NEEDED FOR EDA's VISUALIZATION ALGORITHMS)\n",
    "train_data_info[\"cycle_num\"]=train_data_info[\"cycle_num\"].astype(int)\n",
    "\n",
    "\n",
    "train_data_info=train_data_info.iloc[250:297] # SELECT THE CYCLES FOR TRAINING #EN TAZE DATALARDAN #AFTER REISISTANCE CHANGE\n",
    "train_data_info\n",
    "# ONLY THE START AND END ARE USED FOR TRAINING"
   ]
  },
  {
   "cell_type": "markdown",
   "id": "9c220e42",
   "metadata": {},
   "source": [
    "### 3.2) option 2 - USE START AND STOP DATES USING THE TECHNOLOGICAL STEP DATA IN THE CSV FILES - fct_extract_cycles_time_from_gt_tech_step.ipynb notebook "
   ]
  },
  {
   "cell_type": "code",
   "execution_count": 10,
   "id": "21759544",
   "metadata": {},
   "outputs": [
    {
     "data": {
      "text/html": [
       "<div>\n",
       "<style scoped>\n",
       "    .dataframe tbody tr th:only-of-type {\n",
       "        vertical-align: middle;\n",
       "    }\n",
       "\n",
       "    .dataframe tbody tr th {\n",
       "        vertical-align: top;\n",
       "    }\n",
       "\n",
       "    .dataframe thead th {\n",
       "        text-align: right;\n",
       "    }\n",
       "</style>\n",
       "<table border=\"1\" class=\"dataframe\">\n",
       "  <thead>\n",
       "    <tr style=\"text-align: right;\">\n",
       "      <th></th>\n",
       "      <th>start</th>\n",
       "      <th>end</th>\n",
       "      <th>gtId</th>\n",
       "      <th>endPhase</th>\n",
       "      <th>process_id</th>\n",
       "      <th>year</th>\n",
       "    </tr>\n",
       "  </thead>\n",
       "  <tbody>\n",
       "    <tr>\n",
       "      <th>263</th>\n",
       "      <td>2023-03-14 22:36:59</td>\n",
       "      <td>2023-03-16 23:22:19</td>\n",
       "      <td>721</td>\n",
       "      <td>Cooling</td>\n",
       "      <td>9</td>\n",
       "      <td>2023</td>\n",
       "    </tr>\n",
       "    <tr>\n",
       "      <th>264</th>\n",
       "      <td>2023-03-17 17:54:29</td>\n",
       "      <td>2023-03-19 16:17:26</td>\n",
       "      <td>722</td>\n",
       "      <td>Cooling</td>\n",
       "      <td>10</td>\n",
       "      <td>2023</td>\n",
       "    </tr>\n",
       "    <tr>\n",
       "      <th>265</th>\n",
       "      <td>2023-03-23 13:15:18</td>\n",
       "      <td>2023-03-25 13:05:50</td>\n",
       "      <td>723</td>\n",
       "      <td>Cooling</td>\n",
       "      <td>11</td>\n",
       "      <td>2023</td>\n",
       "    </tr>\n",
       "    <tr>\n",
       "      <th>266</th>\n",
       "      <td>2023-05-06 01:21:54</td>\n",
       "      <td>2023-05-08 08:59:47</td>\n",
       "      <td>724</td>\n",
       "      <td>Cooling</td>\n",
       "      <td>12</td>\n",
       "      <td>2023</td>\n",
       "    </tr>\n",
       "    <tr>\n",
       "      <th>267</th>\n",
       "      <td>2023-05-10 04:54:32</td>\n",
       "      <td>2023-05-12 15:32:16</td>\n",
       "      <td>727</td>\n",
       "      <td>Cooling</td>\n",
       "      <td>13</td>\n",
       "      <td>2023</td>\n",
       "    </tr>\n",
       "    <tr>\n",
       "      <th>268</th>\n",
       "      <td>2023-05-17 16:31:05</td>\n",
       "      <td>2023-05-19 11:23:51</td>\n",
       "      <td>733</td>\n",
       "      <td>Cooling</td>\n",
       "      <td>14</td>\n",
       "      <td>2023</td>\n",
       "    </tr>\n",
       "    <tr>\n",
       "      <th>269</th>\n",
       "      <td>2023-06-03 01:10:57</td>\n",
       "      <td>2023-06-05 01:02:45</td>\n",
       "      <td>739</td>\n",
       "      <td>Cooling</td>\n",
       "      <td>15</td>\n",
       "      <td>2023</td>\n",
       "    </tr>\n",
       "  </tbody>\n",
       "</table>\n",
       "</div>"
      ],
      "text/plain": [
       "                  start                 end  gtId endPhase  process_id  year\n",
       "263 2023-03-14 22:36:59 2023-03-16 23:22:19   721  Cooling           9  2023\n",
       "264 2023-03-17 17:54:29 2023-03-19 16:17:26   722  Cooling          10  2023\n",
       "265 2023-03-23 13:15:18 2023-03-25 13:05:50   723  Cooling          11  2023\n",
       "266 2023-05-06 01:21:54 2023-05-08 08:59:47   724  Cooling          12  2023\n",
       "267 2023-05-10 04:54:32 2023-05-12 15:32:16   727  Cooling          13  2023\n",
       "268 2023-05-17 16:31:05 2023-05-19 11:23:51   733  Cooling          14  2023\n",
       "269 2023-06-03 01:10:57 2023-06-05 01:02:45   739  Cooling          15  2023"
      ]
     },
     "execution_count": 10,
     "metadata": {},
     "output_type": "execute_result"
    }
   ],
   "source": [
    "# THE PARQUET FILE CONTAINS FILTERED DATA, CYCLES MUST BE OF A SPCIFIC LENTH etc...\n",
    "\n",
    "train_data_info=pd.read_parquet(\"s3://test-data-eng/anomaly_detection/autoencoder/sources/preprocessed/nurol/tr/golbasi/fct2/train_data_info/train_data_info_nurol_{}_by_gt_tech_step.parquet\".format(\"fct2\"))\n",
    "train_data_info=train_data_info[263:270]     # use this code to specify training cycles\n",
    "train_data_info\n",
    "# ONLY THE START AND END ARE USED FOR TRAINING\n",
    "\n",
    "\n",
    "# IF THE DATASETS ARE DIFFERENT, CHECK FOR AVAILABILITY OF DATA ON THE OTHER DATASET, I.E. For nurol, cycles may exist on the csv files, but may not exist for lobster data."
   ]
  },
  {
   "cell_type": "markdown",
   "id": "6290728d",
   "metadata": {},
   "source": [
    "# 4) Give Train Parameters"
   ]
  },
  {
   "cell_type": "code",
   "execution_count": 11,
   "id": "de00e5d4",
   "metadata": {
    "scrolled": true
   },
   "outputs": [],
   "source": [
    "# EVERY AUTOENCODER TRAININ NEEDS A train_info_dict in order to get its parameters\n",
    "train_info_dict={\n",
    "    \"tools_path_prefix\":\"s3://test-data-eng/anomaly_detection/autoencoder/tools/\", # model parameter save directory, and model and scaler\n",
    "    \"save_model_info_table_path\":\"all_models_info_table_v2.parquet\", # model parameters listing parquet file\n",
    "    \"bottleneck\":16,  # bottleneck of autoencoder, copy here from the chosen model above\n",
    "    \"wideneck\":128,   # input size (Can be multiple columns) copy here from the chosen model\n",
    "    \"shuffle\":False,\n",
    "    \"n_epochs\" : 500,#how long will the model be trained\n",
    "    \"early_stopping_patience\":10 , # if loss does not decrease for X epochs...\n",
    "    \"batch_size\":1024,\n",
    "    \"train_data_note\":\"LOBSTER_output_quality_prediction_trained_after_2_rezistance_change_2023-02-21\", # a note that is added to the model description\n",
    "    \"loss_type\":\"mse\",            #options are mae and mse\n",
    "    \"dropout_rate\":None,          #between 0 and 1\n",
    "    \"learning_rate\":0.001,\n",
    "    #scaler_parameters\n",
    "    \"sample_time\":\"10S\",           #if resample is not used, set variable to None # pd date time format is used:  '%Y-%m-%d %H:%M:%S.%f'\n",
    "    \"sample_time_func\":\"mean\",      # sub sampling method, std mean max median \n",
    "    \"window_size\":128,\n",
    "    \"train_df_segment_num\":1,       # if data is large, split cycle training data to parts\n",
    "    #data parameters \n",
    "    \"plot_save_format\":\"pdf\",\n",
    "    \"is_live\":False,\n",
    "\n",
    "    \"rolling_window_time\":None,   # smooth the data with a mean filter (investigate) 1s, 1min etc.. 600ms\n",
    "    \"rolling_window_func\":\"mean\", # select rolling window function,\n",
    "    \"time_column\":time_column,    # tm for lobster data usually, specified above\n",
    "    \n",
    "    \n",
    "    \"train_data_info\":train_data_info,   # used to see whath the training data was (observation only), start stop times\n",
    "    \n",
    "    \n",
    "    \"error_column_template\":\"{}_ae_{}\",           # first bracket represents train column, second one represents loss_type    #you can customize this parameter at create_anomaly_df in ae_lib USED FOR NAMING THE GENERATED COLUMNS\n",
    "    \"reconstructed_column_template\":\"{}_ae_reconstructed\",  #first bracket represents train column                             #you can customize this parameter at create_anomaly_df in ae_lib\n",
    "    \n",
    "    \n",
    "    \"model_name_content_inorder\":[\"cust\",\"country\",\"location\",\"asset\",\"subasset\",\"window_size\",\"sample_time\",\"rolling_window_time\",\"bottleneck\",\"wideneck\",\"scaler_type\",\"layers_type\",\"author\",\"column_num\",\"loss_type\",\"epoch_num\",\"total_process_num\",\"date_of_save\",\"train_data_note\"],\n",
    "    # what the model name will be\n",
    "    \n",
    "    \"features_for_model_info_table\":[\"cust\",\"country\",\"location\",\"asset\",\"subasset\",'window_size', 'sample_time', 'rolling_window_time', 'bottleneck','wideneck', 'scaler_type', 'layers_type','column_num', 'loss_type','epoch_num',\n",
    "                                     'total_process_num', 'date_of_save', 'train_data_note','tools_path', 'model_name',\"model_input_shape_len\", 'scaler_name','is_live', 'author',\"read_path\",\"shuffle\",\"train_cols\",\"time_column\",\n",
    "                                     \"train_start_time\",\"last_train_loss\",\"dropout_rate\",\"learning_rate\",\"sample_time_func\",\"rolling_window_func\",\"error_column_template\",\"reconstructed_column_template\"],\n",
    "    # what will be registered in to the model info table, used to search previously formed models\n",
    "    \n",
    "    \"cust_list\":[\"nurol\",\"kutahya-ser\",\"celik-halat\"]\n",
    "}"
   ]
  },
  {
   "cell_type": "markdown",
   "id": "f80e7f43",
   "metadata": {},
   "source": [
    "# 5) Train Models"
   ]
  },
  {
   "cell_type": "code",
   "execution_count": null,
   "id": "2621ac32",
   "metadata": {
    "scrolled": false
   },
   "outputs": [
    {
     "data": {
      "image/png": "[encoded data removed]",
      "text/plain": [
       "<Figure size 2000x500 with 2 Axes>"
      ]
     },
     "metadata": {},
     "output_type": "display_data"
    },
    {
     "name": "stdout",
     "output_type": "stream",
     "text": [
      "128\n"
     ]
    },
    {
     "name": "stderr",
     "output_type": "stream",
     "text": [
      " 14%|█▍        | 1/7 [00:00<00:00,  6.08it/s]/home/ec2-user/anaconda3/envs/python3/lib/python3.10/site-packages/sklearn/base.py:432: UserWarning: X has feature names, but StandardScaler was fitted without feature names\n",
      "  warnings.warn(\n"
     ]
    },
    {
     "name": "stdout",
     "output_type": "stream",
     "text": [
      "average time diff between rows 0 days 00:00:10\n",
      "divided points idxs\n",
      "[]\n"
     ]
    },
    {
     "name": "stderr",
     "output_type": "stream",
     "text": [
      "\r",
      " 29%|██▊       | 2/7 [00:02<00:08,  1.73s/it]"
     ]
    }
   ],
   "source": [
    "# update the train info dict with current date and time for start of training, this is done once so all training in this set has the same date\n",
    "train_info_dict.update({\"train_start_time\":time.strftime(\"%Y-%m-%d %H:%M:%S\", time.localtime())})\n",
    "\n",
    "for read_path in read_paths:\n",
    "    for all_train_cols in all_train_cols_list: \n",
    "        train_cols=get_existing_subasset_train_cols(all_train_cols,read_path,train_data_info,time_column) #GET ONLY COLUMNS THAT ACTUALLY EXIST!\n",
    "        use_cols=train_cols+[time_column] \n",
    "        \n",
    "        #bottleneck=8\n",
    "        #wideneck=len(train_cols)   # THESE NOW COME FROM THE train_info_dict \n",
    "        \n",
    "        #DEFINE SCALER TYPE\n",
    "        scaler=MinMaxScaler() \n",
    "        scaler=StandardScaler()\n",
    "        scaler_type=scaler.__class__.__name__\n",
    "        \n",
    "        \n",
    "        # get a dataframe for the calculation of the scaler\n",
    "        train_df=read_spesific_files(read_path,start_end_df=train_data_info,use_cols=use_cols,time_column=time_column)\n",
    "        \n",
    "        #prepare all process data for scaler\n",
    "        if type(train_info_dict[\"rolling_window_time\"])==str:  # if rolling window time exists, is not \"None\"\n",
    "            train_df.index=train_df[time_column]\n",
    "            train_cols_func_dict={column:[train_info_dict[\"rolling_window_func\"]] for column in train_cols}   \n",
    "            train_df.loc[:,train_cols]=train_df[train_cols].rolling(train_info_dict[\"rolling_window_time\"]).agg(train_cols_func_dict)\n",
    "        if type(train_info_dict[\"sample_time\"])==str:  # if sample_time exists, is not \"None\"\n",
    "            numeric_cols = list(train_df.select_dtypes(include=np.number).columns)\n",
    "            object_cols = list(train_df.select_dtypes(include=np.object_).columns)\n",
    "            numeric_cols_func_dict={column:[train_info_dict[\"sample_time_func\"]] for column in numeric_cols}\n",
    "            object_cols_fync_dict={column:[\"sum\"] for column in object_cols}\n",
    "            cols_func_dict={**numeric_cols_func_dict,**object_cols_fync_dict}\n",
    "        \n",
    "            train_df.set_index(train_info_dict[\"time_column\"],inplace=True)\n",
    "            train_df=train_df.resample(train_info_dict[\"sample_time\"]).agg(cols_func_dict)\n",
    "            \n",
    "        scaler.fit(train_df[train_cols])\n",
    "        \n",
    "        del train_df   # Free up memory\n",
    "\n",
    "        \n",
    "        # create an input shape that will fit all the models\n",
    "        generic_input_shape=(None,train_info_dict[\"window_size\"],len(train_cols))\n",
    "        \n",
    "        # CONFIGURE THE MODEL\n",
    "        model,model_input_shape,author,layers_type=AutoEncoder(generic_input_shape,loss_type=train_info_dict[\"loss_type\"],dropout_rate=train_info_dict[\"dropout_rate\"],learning_rate=train_info_dict[\"learning_rate\"])\n",
    "\n",
    "        #update the training info dictionary\n",
    "        train_info_dict.update({\"train_cols\":train_cols,\n",
    "                            \"use_cols\":use_cols,\n",
    "                            \"scaler_type\":scaler_type,\n",
    "                            \"total_process_num\":len(train_data_info),\n",
    "                            \"model\":model,\n",
    "                            \"model_input_shape_len\":len(model_input_shape),\n",
    "                            \"scaler\":scaler,\n",
    "                            \"column_num\":len(train_cols),\n",
    "                            \"read_path\":read_path,\n",
    "                            \"author\":author,\n",
    "                            \"layers_type\":layers_type    \n",
    "       })\n",
    "        \n",
    "        # TRAIN THE MODEL\n",
    "        train_info_dict,loss_history,val_loss_history,all_loss=train_model_generic_on_batches(train_info_dict)\n",
    "        \n",
    "        # UPDATE THE DICTINARY WITH THE RESULTS\n",
    "        train_info_dict.update({\n",
    "                            \"loss_history\":loss_history,\n",
    "                            \"val_loss_history\":val_loss_history,\n",
    "                            \"all_loss\":all_loss,\n",
    "                            \"epoch_num\":len(loss_history),\n",
    "                            \"date_of_save\":str(pd.to_datetime(datetime.now()).round(freq='S')),\n",
    "                            \"last_train_loss\":loss_history[-1]\n",
    "                           })\n",
    "        \n",
    "        #SAVE THE MODEL AND THE PARAMETERS TO tools_path_prefix\n",
    "        train_info_dict, cust_features_dict=save_model_with_info(train_info_dict)\n",
    "        \n",
    "        # SAVE THE INFO TABLE -> a list which has the info of all of the trained models (to be able to find it later)\n",
    "        model_info_df=save_all_models_info_totable(train_info_dict[\"save_model_info_table_path\"],train_info_dict,cust_features_dict)\n",
    "        \n",
    "        #SAVE THE MODEL (NEEDE TO USE FOR LIVE)\n",
    "        model_info_df.to_parquet(train_info_dict[\"tools_path\"]+\"model_info_df.parquet\")"
   ]
  },
  {
   "cell_type": "code",
   "execution_count": null,
   "id": "8e5f6b03",
   "metadata": {},
   "outputs": [],
   "source": [
    "# GERISI COP!"
   ]
  },
  {
   "cell_type": "code",
   "execution_count": null,
   "id": "8709d917",
   "metadata": {},
   "outputs": [],
   "source": [
    "# THE REST IF TO TRAIN A MODEL WITH DIFFERENT PARAMETERS"
   ]
  },
  {
   "cell_type": "code",
   "execution_count": null,
   "id": "deed0c51",
   "metadata": {},
   "outputs": [],
   "source": []
  },
  {
   "cell_type": "code",
   "execution_count": null,
   "id": "b403a430",
   "metadata": {},
   "outputs": [],
   "source": []
  },
  {
   "cell_type": "code",
   "execution_count": null,
   "id": "a1aaccb1",
   "metadata": {},
   "outputs": [],
   "source": []
  },
  {
   "cell_type": "code",
   "execution_count": null,
   "id": "6dfb080e",
   "metadata": {},
   "outputs": [],
   "source": []
  },
  {
   "cell_type": "code",
   "execution_count": null,
   "id": "cf8bfe11",
   "metadata": {},
   "outputs": [],
   "source": []
  },
  {
   "cell_type": "code",
   "execution_count": null,
   "id": "5e8f1453",
   "metadata": {},
   "outputs": [],
   "source": []
  },
  {
   "cell_type": "code",
   "execution_count": null,
   "id": "e9c7cc98",
   "metadata": {},
   "outputs": [],
   "source": []
  },
  {
   "cell_type": "code",
   "execution_count": null,
   "id": "831c4336",
   "metadata": {},
   "outputs": [],
   "source": []
  },
  {
   "cell_type": "code",
   "execution_count": null,
   "id": "18b93c7a",
   "metadata": {},
   "outputs": [],
   "source": []
  },
  {
   "cell_type": "code",
   "execution_count": null,
   "id": "99f2b7a5",
   "metadata": {},
   "outputs": [],
   "source": []
  },
  {
   "cell_type": "code",
   "execution_count": null,
   "id": "8dca35a9",
   "metadata": {},
   "outputs": [],
   "source": []
  },
  {
   "cell_type": "code",
   "execution_count": null,
   "id": "8af8e52b",
   "metadata": {},
   "outputs": [],
   "source": [
    "for read_path in read_paths:\n",
    "    for i in range(len(train_data_info)):\n",
    "        use_cols=train_cols+[time_column]\n",
    "        train_df=read_spesific_files(read_path,start_end_df=train_data_info.iloc[i:i+1],use_cols=use_cols,time_column=time_column)\n",
    "        if len(train_df)!=0:\n",
    "            train_df.index=train_df[time_column]\n",
    "            plt.title(train_df[time_column].iloc[0])\n",
    "            plt.plot(train_df[train_cols])\n",
    "            plt.show()"
   ]
  },
  {
   "cell_type": "code",
   "execution_count": null,
   "id": "b0ebbd49",
   "metadata": {},
   "outputs": [],
   "source": [
    "train_data_info.iloc[37:]"
   ]
  },
  {
   "cell_type": "code",
   "execution_count": null,
   "id": "f9b644c3",
   "metadata": {},
   "outputs": [],
   "source": []
  },
  {
   "cell_type": "code",
   "execution_count": null,
   "id": "0dc8cd2b",
   "metadata": {},
   "outputs": [],
   "source": []
  },
  {
   "cell_type": "code",
   "execution_count": null,
   "id": "732e526b",
   "metadata": {},
   "outputs": [],
   "source": []
  },
  {
   "cell_type": "code",
   "execution_count": null,
   "id": "59d2bc85",
   "metadata": {},
   "outputs": [],
   "source": []
  },
  {
   "cell_type": "code",
   "execution_count": null,
   "id": "bc4b9228",
   "metadata": {},
   "outputs": [],
   "source": []
  },
  {
   "cell_type": "code",
   "execution_count": null,
   "id": "cfd943e5",
   "metadata": {},
   "outputs": [],
   "source": [
    "all_train_cols_list=[[\"m_rms\",\"mr\"]]"
   ]
  },
  {
   "cell_type": "code",
   "execution_count": null,
   "id": "0cfcdead",
   "metadata": {},
   "outputs": [],
   "source": [
    "train_df=train_df.resample(\"10S\").mean()"
   ]
  },
  {
   "cell_type": "code",
   "execution_count": null,
   "id": "3b68a284",
   "metadata": {
    "scrolled": true
   },
   "outputs": [],
   "source": [
    "for read_path in read_paths:\n",
    "    for all_train_cols in all_train_cols_list: \n",
    "        \n",
    "        for i in range(len(train_data_info)):\n",
    "            train_cols=all_train_cols\n",
    "            use_cols=train_cols+[time_column]\n",
    "            \n",
    "            train_df=read_spesific_files(read_path,start_end_df=train_data_info.iloc[i:i+1],use_cols=use_cols,time_column=time_column)\n",
    "            train_df.index=train_df[time_column]\n",
    "            train_df=train_df.resample(\"1S\").mean()\n",
    "            train_df[\"m_rms\"].plot()\n",
    "            plt.show()\n",
    "            train_df[\"mr\"].plot()\n",
    "            plt.show()\n",
    "            train_df=train_df.resample(\"10S\").mean()\n",
    "            train_df[\"m_rms\"].plot()\n",
    "            plt.show()\n",
    "            train_df[\"mr\"].plot()\n",
    "            plt.show()\n",
    "            train_df=train_df.resample(\"1min\").mean()\n",
    "            train_df[\"m_rms\"].plot()\n",
    "            plt.show()\n",
    "            train_df[\"mr\"].plot()\n",
    "            plt.show()\n",
    "            \n",
    "            "
   ]
  },
  {
   "cell_type": "code",
   "execution_count": null,
   "id": "6f2268e9",
   "metadata": {},
   "outputs": [],
   "source": []
  },
  {
   "cell_type": "code",
   "execution_count": null,
   "id": "a7dc6ffe",
   "metadata": {},
   "outputs": [],
   "source": []
  },
  {
   "cell_type": "code",
   "execution_count": null,
   "id": "80fba0c4",
   "metadata": {},
   "outputs": [],
   "source": []
  },
  {
   "cell_type": "code",
   "execution_count": null,
   "id": "95faceb8",
   "metadata": {},
   "outputs": [],
   "source": []
  },
  {
   "cell_type": "code",
   "execution_count": null,
   "id": "76696c75",
   "metadata": {},
   "outputs": [],
   "source": []
  },
  {
   "cell_type": "code",
   "execution_count": null,
   "id": "980c8afd",
   "metadata": {},
   "outputs": [],
   "source": []
  },
  {
   "cell_type": "code",
   "execution_count": null,
   "id": "2f8f1346",
   "metadata": {},
   "outputs": [],
   "source": [
    "test_df_segment_num=1\n",
    "for_train=False"
   ]
  },
  {
   "cell_type": "code",
   "execution_count": null,
   "id": "6585b5ee",
   "metadata": {},
   "outputs": [],
   "source": [
    "col_plot=\"m_rms\""
   ]
  },
  {
   "cell_type": "code",
   "execution_count": null,
   "id": "968fa764",
   "metadata": {
    "scrolled": true
   },
   "outputs": [],
   "source": [
    "for j in range(len(train_info_dict[\"train_data_info\"])):\n",
    "    train_info_dict.update({\"for_train\":False,\"test_df_segment_num\":test_df_segment_num,\"test_data_info\":train_data_info})\n",
    "    anomaly_dfs=[]\n",
    "    \n",
    "    test_df=read_spesific_files(train_info_dict[\"read_path\"],start_end_df=train_info_dict[\"train_data_info\"].iloc[j:j+1],use_cols=train_info_dict[\"use_cols\"],time_column=train_info_dict[\"time_column\"])\n",
    "    if train_info_dict[\"rolling_window_time\"]!=None:\n",
    "        try:\n",
    "            test_df.index=test_df[time_column]\n",
    "            test_df.loc[:,train_cols]=test_df[train_cols].rolling(rolling_window_time).mean()\n",
    "            test_df.reset_index(drop=True,inplace=True)\n",
    "        except:\n",
    "            None\n",
    "    test_df_segment_step=int(len(test_df)/test_df_segment_num)\n",
    "    for df_segment_order in range(test_df_segment_num):\n",
    "        test_df_segment=test_df.iloc[df_segment_order*test_df_segment_step:(df_segment_order+1)*test_df_segment_step]\n",
    "        if len(test_df)>0:\n",
    "            X_test,X_test_list,sequence_df_list,divide_idx_list=get_data(test_df_segment,train_info_dict)\n",
    "            anomaly_df=get_monolithic_anomaly_df(X_list=X_test_list,sequence_df_list=sequence_df_list,train_info_dict=train_info_dict)\n",
    "            \n",
    "            anomaly_df[\"cycle_num\"]=int(train_data_info[\"cycle_num\"].iloc[j])\n",
    "            anomaly_df[\"year\"]=train_data_info[\"year\"].iloc[j]\n",
    "            anomaly_dfs.append(anomaly_df)\n",
    "    if len(anomaly_dfs)>0:\n",
    "        anomaly_df=pd.concat(anomaly_dfs)\n",
    "    \n",
    "    plt.title(int(train_data_info[\"cycle_num\"].iloc[j]))\n",
    "    anomaly_df[col_plot].plot()\n",
    "    anomaly_df[col_plot+\"_ae_reconstructed\"].plot()\n",
    "    anomaly_df[col_plot+\"_ae_mse\"].plot()\n",
    "    \n",
    "    plt.show()\n"
   ]
  },
  {
   "cell_type": "code",
   "execution_count": null,
   "id": "c9355006",
   "metadata": {},
   "outputs": [],
   "source": []
  },
  {
   "cell_type": "code",
   "execution_count": null,
   "id": "871c80e1",
   "metadata": {},
   "outputs": [],
   "source": []
  },
  {
   "cell_type": "code",
   "execution_count": null,
   "id": "0c913911",
   "metadata": {},
   "outputs": [],
   "source": []
  },
  {
   "cell_type": "code",
   "execution_count": null,
   "id": "579c8b6c",
   "metadata": {},
   "outputs": [],
   "source": []
  },
  {
   "cell_type": "code",
   "execution_count": null,
   "id": "354fd22a",
   "metadata": {},
   "outputs": [],
   "source": []
  },
  {
   "cell_type": "code",
   "execution_count": null,
   "id": "ca499a0c",
   "metadata": {},
   "outputs": [],
   "source": []
  },
  {
   "cell_type": "code",
   "execution_count": null,
   "id": "42e1f85d",
   "metadata": {},
   "outputs": [],
   "source": []
  },
  {
   "cell_type": "code",
   "execution_count": null,
   "id": "6934bbcb",
   "metadata": {},
   "outputs": [],
   "source": []
  },
  {
   "cell_type": "code",
   "execution_count": null,
   "id": "8e075c2e",
   "metadata": {},
   "outputs": [],
   "source": [
    "all_models_info_table_column_names=['cust', 'country', 'location', 'asset', 'subasset', 'device_type', 'ID',\n",
    "       'window_size', 'sample_time', 'bottleneck', 'wideneck', 'scaler_type',\n",
    "       'column_num', 'epoch_num', 'total_cycles_num', 'date_of_save',\n",
    "       'train_data_note', 'tools_path', 'model_name', 'scaler_name']"
   ]
  },
  {
   "cell_type": "code",
   "execution_count": null,
   "id": "41211623",
   "metadata": {},
   "outputs": [],
   "source": [
    "pd.DataFrame(columns=all_models_info_table_column_names).to_parquet(\"all_models_info_table.parquet\")"
   ]
  },
  {
   "cell_type": "code",
   "execution_count": null,
   "id": "cdbd1ea8",
   "metadata": {},
   "outputs": [],
   "source": [
    "['cust', 'country', 'location', 'asset', 'subasset', 'device_type', 'ID',\n",
    "       'window_size', 'sample_time', 'bottleneck', 'wideneck', 'scaler_type',\n",
    "       'column_num', 'epoch_num', 'total_cycles_num', 'date_of_save',\n",
    "       'train_data_note', 'tools_path', 'model_name', 'scaler_name']"
   ]
  },
  {
   "cell_type": "code",
   "execution_count": null,
   "id": "3c21e3b7",
   "metadata": {},
   "outputs": [],
   "source": []
  },
  {
   "cell_type": "code",
   "execution_count": null,
   "id": "c9ae57d5",
   "metadata": {},
   "outputs": [],
   "source": []
  },
  {
   "cell_type": "code",
   "execution_count": null,
   "id": "6c42875a",
   "metadata": {},
   "outputs": [],
   "source": [
    "df=pd.DataFrame()"
   ]
  },
  {
   "cell_type": "code",
   "execution_count": null,
   "id": "eec5a417",
   "metadata": {
    "scrolled": true
   },
   "outputs": [],
   "source": [
    "df[\"start\"]=pd.date_range(\"2023-04-04\",\"2023-04-24\",freq=\"D\")"
   ]
  },
  {
   "cell_type": "code",
   "execution_count": null,
   "id": "5a413a0f",
   "metadata": {},
   "outputs": [],
   "source": [
    "df[\"end\"]=pd.date_range(\"2023-04-05\",\"2023-04-25\",freq=\"D\")"
   ]
  },
  {
   "cell_type": "code",
   "execution_count": null,
   "id": "6a06d6e4",
   "metadata": {},
   "outputs": [],
   "source": [
    "df[\"project\"]=\"no_project\""
   ]
  },
  {
   "cell_type": "code",
   "execution_count": null,
   "id": "34064b5f",
   "metadata": {},
   "outputs": [],
   "source": [
    "df[\"cycle_num\"]=range(1,22)"
   ]
  },
  {
   "cell_type": "code",
   "execution_count": null,
   "id": "b0510230",
   "metadata": {},
   "outputs": [],
   "source": [
    "df[[\"error_rate_total\",\"error_rate_quality_gate_1\",\"error_rate_quality_gate_2\"]]=None"
   ]
  },
  {
   "cell_type": "code",
   "execution_count": null,
   "id": "ca35930a",
   "metadata": {},
   "outputs": [],
   "source": [
    "df[\"year\"]=2023"
   ]
  },
  {
   "cell_type": "code",
   "execution_count": null,
   "id": "a9e3c354",
   "metadata": {},
   "outputs": [],
   "source": [
    "train_data_info=df.copy(deep=True)"
   ]
  },
  {
   "cell_type": "code",
   "execution_count": null,
   "id": "aac3f8cc",
   "metadata": {},
   "outputs": [],
   "source": [
    "train_data_info"
   ]
  },
  {
   "cell_type": "code",
   "execution_count": null,
   "id": "19dbe651",
   "metadata": {},
   "outputs": [],
   "source": [
    "train_data_info.to_parquet(\"use_cycles_celik-halat.parquet\")"
   ]
  },
  {
   "cell_type": "code",
   "execution_count": null,
   "id": "5758f35f",
   "metadata": {},
   "outputs": [],
   "source": [
    "k=pd.read_parquet(\"s3://tm-partitioned/preprocessed/celik-halat/tr/kartepe/m432/sanziman-ana/xdk/19-07578/2023/04/05/Partitioning-all-23-2023-04-05-23-52-43-98ee7a71-50cf-39d0-b3ed-765428c377fe.parquet\")"
   ]
  },
  {
   "cell_type": "code",
   "execution_count": null,
   "id": "ccd2fd33",
   "metadata": {},
   "outputs": [],
   "source": [
    "l=pd.read_parquet(\"s3://tm-partitioned/preprocessed/celik-halat/tr/kartepe/m432/sanziman-ana/xdk/19-07578/2023/04/04/Partitioning-all-23-2023-04-04-23-52-27-cd53b4ad-a181-35a1-9696-6491e9145508.parquet\")"
   ]
  },
  {
   "cell_type": "code",
   "execution_count": null,
   "id": "1f63c92a",
   "metadata": {},
   "outputs": [],
   "source": []
  },
  {
   "cell_type": "code",
   "execution_count": null,
   "id": "581964a6",
   "metadata": {},
   "outputs": [],
   "source": [
    "def create_model_and_scaler_name(train_info_dict):\n",
    "    cust_features_dict=get_cust_features(train_info_dict[\"read_path\"])\n",
    "    train_info_dict.update(cust_features_dict)\n",
    "    if type(cust_features_dict)==dict:\n",
    "        \n",
    "        train_features_dict={key: train_info_dict[key] for key in train_info_dict[\"model_name_content_inorder\"]}\n",
    "        scaler_name=\"_\".join([str(train_feature) for train_feature in train_features_dict.values() ])+\"_scaler\"+\".gz\"\n",
    "        model_name=\"_\".join([str(train_feature) for train_feature in train_features_dict.values() ])+\"_model\"+\".h5\"\n",
    "        \n",
    "        train_info_dict.update({\"model_name\":model_name,\"scaler_name\":scaler_name})\n",
    "                    \n",
    "        return train_info_dict,cust_features_dict"
   ]
  },
  {
   "cell_type": "code",
   "execution_count": null,
   "id": "6fec67a3",
   "metadata": {},
   "outputs": [],
   "source": [
    "cust_features_dict[\"cust\"],cust_features_dict[\"country\"],cust_features_dict[\"location\"],cust_features_dict[\"asset\"],cust_features_dict[\"subasset\"],"
   ]
  },
  {
   "cell_type": "code",
   "execution_count": null,
   "id": "e15c7915",
   "metadata": {},
   "outputs": [],
   "source": [
    "train_info_dict,cust_features_dict=create_model_and_scaler_name(train_info_dict)"
   ]
  },
  {
   "cell_type": "code",
   "execution_count": null,
   "id": "1aa4fcdd",
   "metadata": {},
   "outputs": [],
   "source": [
    "list(cust_features_dict.values())"
   ]
  },
  {
   "cell_type": "code",
   "execution_count": null,
   "id": "0566ad01",
   "metadata": {},
   "outputs": [],
   "source": [
    "train_info_dict[\"model_name\"]"
   ]
  }
 ],
 "metadata": {
  "kernelspec": {
   "display_name": "conda_python3",
   "language": "python",
   "name": "conda_python3"
  },
  "language_info": {
   "codemirror_mode": {
    "name": "ipython",
    "version": 3
   },
   "file_extension": ".py",
   "mimetype": "text/x-python",
   "name": "python",
   "nbconvert_exporter": "python",
   "pygments_lexer": "ipython3",
   "version": "3.10.12"
  }
 },
 "nbformat": 4,
 "nbformat_minor": 5
}
